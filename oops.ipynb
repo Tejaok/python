{
  "nbformat": 4,
  "nbformat_minor": 0,
  "metadata": {
    "colab": {
      "provenance": []
    },
    "kernelspec": {
      "name": "python3",
      "display_name": "Python 3"
    },
    "language_info": {
      "name": "python"
    }
  },
  "cells": [
    {
      "cell_type": "code",
      "execution_count": 1,
      "metadata": {
        "colab": {
          "base_uri": "https://localhost:8080/"
        },
        "id": "ugFN_DQSOb0Q",
        "outputId": "d61edbe6-4af1-42a0-c304-e42a2f954bf3"
      },
      "outputs": [
        {
          "output_type": "stream",
          "name": "stdout",
          "text": [
            "Rodger is a mammal\n",
            "Tommy is also a mammal\n",
            "My name is Rodger\n",
            "My name is Tommy\n"
          ]
        }
      ],
      "source": [
        "#Creating a class and object\n",
        "class Dog:\n",
        "    attr1 = \"mammal\"\n",
        "    def __init__(self, name):\n",
        "        self.name = name\n",
        "Rodger = Dog(\"Rodger\")\n",
        "Tommy = Dog(\"Tommy\")\n",
        "\n",
        "print(\"Rodger is a {}\".format(Rodger.__class__.attr1))\n",
        "print(\"Tommy is also a {}\".format(Tommy.__class__.attr1))\n",
        "\n",
        "print(\"My name is {}\".format(Rodger.name))\n",
        "print(\"My name is {}\".format(Tommy.name))"
      ]
    },
    {
      "cell_type": "code",
      "source": [
        "class Employee:\n",
        "    company_name = 'ABC Company'\n",
        "    def __init__(self, name, salary):\n",
        "        self.name = name\n",
        "        self.salary = salary\n",
        "    def show(self):\n",
        "        print('Employee:', self.name, self.salary, self.company_name)\n",
        "emp1 = Employee(\"Harry\", 12000)\n",
        "emp1.show()\n",
        "emp2 = Employee(\"Emma\", 10000)\n",
        "emp2.show()"
      ],
      "metadata": {
        "colab": {
          "base_uri": "https://localhost:8080/"
        },
        "id": "56oDuhQ6PvDr",
        "outputId": "bc80d2a4-95f7-4eb5-93e3-27b605bd1b48"
      },
      "execution_count": 2,
      "outputs": [
        {
          "output_type": "stream",
          "name": "stdout",
          "text": [
            "Employee: Harry 12000 ABC Company\n",
            "Employee: Emma 10000 ABC Company\n"
          ]
        }
      ]
    },
    {
      "cell_type": "code",
      "source": [
        "#INHERITANCE\n",
        "class Person(object):\n",
        "\n",
        "    def __init__(self, name, idnumber):\n",
        "        self.name = name\n",
        "        self.idnumber = idnumber\n",
        "\n",
        "    def display(self):\n",
        "        print(self.name)\n",
        "        print(self.idnumber)\n",
        "\n",
        "    def details(self):\n",
        "        print(\"My name is {}\".format(self.name))\n",
        "        print(\"IdNumber: {}\".format(self.idnumber))\n",
        "\n",
        "class Employee(Person):\n",
        "    def __init__(self, name, idnumber, salary, post):\n",
        "        self.salary = salary\n",
        "        self.post = post\n",
        "        Person.__init__(self, name, idnumber)\n",
        "\n",
        "    def details(self):\n",
        "        print(\"My name is {}\".format(self.name))\n",
        "        print(\"IdNumber: {}\".format(self.idnumber))\n",
        "        print(\"Post: {}\".format(self.post))\n",
        "\n",
        "a = Employee('Rahul', 886012, 200000, \"Intern\")\n",
        "a.display()\n",
        "a.details()"
      ],
      "metadata": {
        "colab": {
          "base_uri": "https://localhost:8080/"
        },
        "id": "ZB0xggLOSSuR",
        "outputId": "79d9f82c-1636-4041-e16d-9aba9e336e17"
      },
      "execution_count": 4,
      "outputs": [
        {
          "output_type": "stream",
          "name": "stdout",
          "text": [
            "Rahul\n",
            "886012\n",
            "My name is Rahul\n",
            "IdNumber: 886012\n",
            "Post: Intern\n"
          ]
        }
      ]
    },
    {
      "cell_type": "code",
      "source": [
        "#polymorphism\n",
        "class Bird:\n",
        "    def intro(self):\n",
        "        print(\"There are many types of birds.\")\n",
        "\n",
        "    def flight(self):\n",
        "        print(\"Most of the birds can fly but some cannot.\")\n",
        "\n",
        "class sparrow(Bird):\n",
        "    def flight(self):\n",
        "        print(\"Sparrows can fly.\")\n",
        "class ostrich(Bird):\n",
        "    def flight(self):\n",
        "        print(\"Ostriches cannot fly.\")\n",
        "obj_bird = Bird()\n",
        "obj_spr = sparrow()\n",
        "obj_ost = ostrich()\n",
        "obj_bird.intro()\n",
        "obj_bird.flight()\n",
        "obj_spr.intro()\n",
        "obj_spr.flight()\n",
        "obj_ost.intro()\n",
        "obj_ost.flight()"
      ],
      "metadata": {
        "colab": {
          "base_uri": "https://localhost:8080/"
        },
        "id": "zJk0Rg6HUs09",
        "outputId": "e6cdb3fb-30c0-477a-82d6-b1c9af8160a3"
      },
      "execution_count": 6,
      "outputs": [
        {
          "output_type": "stream",
          "name": "stdout",
          "text": [
            "There are many types of birds.\n",
            "Most of the birds can fly but some cannot.\n",
            "There are many types of birds.\n",
            "Sparrows can fly.\n",
            "There are many types of birds.\n",
            "Ostriches cannot fly.\n"
          ]
        }
      ]
    },
    {
      "cell_type": "code",
      "source": [
        "#Encapsulation\n",
        "class Base:\n",
        "    def __init__(self):\n",
        "        self.a = \"helloooo\"\n",
        "        self.__c = \"hello\"\n",
        "\n",
        "class Derived(Base):\n",
        "    def __init__(self):\n",
        "        Base.__init__(self)\n",
        "        print(\"Calling private member of base class: \")\n",
        "        print(self.__c)\n",
        "obj1 = Base()\n",
        "print(obj1.a)"
      ],
      "metadata": {
        "colab": {
          "base_uri": "https://localhost:8080/"
        },
        "id": "BchIkfjqVCOb",
        "outputId": "92424e43-ca76-4c00-da80-19922497c2d8"
      },
      "execution_count": 7,
      "outputs": [
        {
          "output_type": "stream",
          "name": "stdout",
          "text": [
            "helloooo\n"
          ]
        }
      ]
    },
    {
      "cell_type": "code",
      "source": [
        "#Abstraction\n",
        "class Rectangle:\n",
        "    def __init__(self, length, width):\n",
        "        self.__length = length\n",
        "        self.__width = width\n",
        "\n",
        "    def area(self):\n",
        "        return self.__length * self.__width\n",
        "\n",
        "    def perimeter(self):\n",
        "        return 2 * (self.__length + self.__width)\n",
        "\n",
        "rect = Rectangle(5, 3)\n",
        "print(f\"Area: {rect.area()}\")\n",
        "print(f\"Perimeter: {rect.perimeter()}\")"
      ],
      "metadata": {
        "colab": {
          "base_uri": "https://localhost:8080/"
        },
        "id": "tggGGZX7Vfck",
        "outputId": "38db799b-ba66-48b3-f212-cdba8e1fdd10"
      },
      "execution_count": 8,
      "outputs": [
        {
          "output_type": "stream",
          "name": "stdout",
          "text": [
            "Area: 15\n",
            "Perimeter: 16\n"
          ]
        }
      ]
    },
    {
      "cell_type": "code",
      "source": [
        "#create a numpy array with 6 random integers from 10 to 30\n",
        "import numpy as np\n",
        "arr = np.random.randint(10, 30, 6)\n",
        "print(arr)"
      ],
      "metadata": {
        "colab": {
          "base_uri": "https://localhost:8080/"
        },
        "id": "KIYvqLSgViQb",
        "outputId": "ba873f6f-cf96-4f02-d923-72bd7ba65585"
      },
      "execution_count": 9,
      "outputs": [
        {
          "output_type": "stream",
          "name": "stdout",
          "text": [
            "[20 22 17 20 18 18]\n"
          ]
        }
      ]
    },
    {
      "cell_type": "code",
      "source": [
        "#Create a numpy array of size 10 x 5 with random values and extract the first five rows into variable\n",
        "import numpy as np\n",
        "arr = np.random.rand(10, 5)\n",
        "print(arr)\n",
        "first_five_rows = arr[:5]\n",
        "print(first_five_rows)\n"
      ],
      "metadata": {
        "colab": {
          "base_uri": "https://localhost:8080/"
        },
        "id": "ze9dKFoWoASh",
        "outputId": "0375906b-fdad-4049-d452-d5fde1f1a21a"
      },
      "execution_count": 10,
      "outputs": [
        {
          "output_type": "stream",
          "name": "stdout",
          "text": [
            "[[0.60824739 0.65462019 0.70286242 0.71689442 0.81030656]\n",
            " [0.10002163 0.37834488 0.84008711 0.22148456 0.64183759]\n",
            " [0.02855825 0.09980219 0.23628714 0.07249813 0.2418152 ]\n",
            " [0.49412052 0.91473268 0.78686307 0.33191523 0.89921157]\n",
            " [0.39660032 0.61867877 0.68772939 0.19834116 0.2108385 ]\n",
            " [0.13005376 0.05189443 0.90547607 0.9678332  0.17885936]\n",
            " [0.35908119 0.85187065 0.04724373 0.4060744  0.79498293]\n",
            " [0.43229186 0.37954785 0.59408845 0.89541327 0.62628126]\n",
            " [0.67885747 0.86028158 0.48118609 0.53070306 0.13567586]\n",
            " [0.01367499 0.09255048 0.5697427  0.55989968 0.58928794]]\n",
            "[[0.60824739 0.65462019 0.70286242 0.71689442 0.81030656]\n",
            " [0.10002163 0.37834488 0.84008711 0.22148456 0.64183759]\n",
            " [0.02855825 0.09980219 0.23628714 0.07249813 0.2418152 ]\n",
            " [0.49412052 0.91473268 0.78686307 0.33191523 0.89921157]\n",
            " [0.39660032 0.61867877 0.68772939 0.19834116 0.2108385 ]]\n"
          ]
        }
      ]
    },
    {
      "cell_type": "code",
      "source": [
        "#create a numpy array of size 5x5 with random values and find the maximum and minimum in them\n",
        "import numpy as np\n",
        "arr = np.random.rand(5, 5)\n",
        "print(arr)\n",
        "min,max = arr.min(),arr.max()\n",
        "print(\"highest=\",max,\"lowest=\",min)"
      ],
      "metadata": {
        "colab": {
          "base_uri": "https://localhost:8080/"
        },
        "id": "o1T-RdQ9oD0h",
        "outputId": "655b625f-3fea-434a-9988-21fc5f6df240"
      },
      "execution_count": 11,
      "outputs": [
        {
          "output_type": "stream",
          "name": "stdout",
          "text": [
            "[[0.11176331 0.91794573 0.75608532 0.14429281 0.81272417]\n",
            " [0.38494694 0.93969793 0.85192598 0.18618346 0.64631271]\n",
            " [0.24381276 0.64772806 0.63823627 0.90137065 0.25337377]\n",
            " [0.10488451 0.52085932 0.91449673 0.2921857  0.25327702]\n",
            " [0.78374723 0.26101902 0.66200128 0.82277143 0.85491019]]\n",
            "highest= 0.9396979288143635 lowest= 0.10488450879337041\n"
          ]
        }
      ]
    },
    {
      "cell_type": "code",
      "source": [
        "#create a numpy array which has numbers shuffled between 1 to 10\n",
        "import numpy as np\n",
        "x = np.arange(1,11)\n",
        "print(x)\n",
        "np.random.shuffle(x)\n",
        "print(x)"
      ],
      "metadata": {
        "colab": {
          "base_uri": "https://localhost:8080/"
        },
        "id": "zrPtOwKgoMQh",
        "outputId": "388cc438-f518-441b-c7ce-d718fdfbdda5"
      },
      "execution_count": 12,
      "outputs": [
        {
          "output_type": "stream",
          "name": "stdout",
          "text": [
            "[ 1  2  3  4  5  6  7  8  9 10]\n",
            "[ 4  1  7  2  8  6  9  5 10  3]\n"
          ]
        }
      ]
    }
  ]
}