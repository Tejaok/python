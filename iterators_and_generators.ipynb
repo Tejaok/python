{
  "nbformat": 4,
  "nbformat_minor": 0,
  "metadata": {
    "colab": {
      "provenance": []
    },
    "kernelspec": {
      "name": "python3",
      "display_name": "Python 3"
    },
    "language_info": {
      "name": "python"
    }
  },
  "cells": [
    {
      "cell_type": "code",
      "execution_count": 1,
      "metadata": {
        "colab": {
          "base_uri": "https://localhost:8080/"
        },
        "id": "TVA_skf-edHG",
        "outputId": "c40daf5c-9b9a-4007-f822-d22c0929b42d"
      },
      "outputs": [
        {
          "output_type": "execute_result",
          "data": {
            "text/plain": [
              "<list_iterator at 0x794250220dc0>"
            ]
          },
          "metadata": {},
          "execution_count": 1
        }
      ],
      "source": [
        "L = [1, 2, 3]\n",
        "it = iter(L)\n",
        "it\n"
      ]
    },
    {
      "cell_type": "code",
      "source": [
        "T= [5, 7, 9]\n",
        "LT = iter(T)\n",
        "LT"
      ],
      "metadata": {
        "colab": {
          "base_uri": "https://localhost:8080/"
        },
        "id": "SAe22y1Vgl3G",
        "outputId": "e05282d0-a21d-435b-e32b-2e15397b783c"
      },
      "execution_count": 2,
      "outputs": [
        {
          "output_type": "execute_result",
          "data": {
            "text/plain": [
              "<list_iterator at 0x794250221180>"
            ]
          },
          "metadata": {},
          "execution_count": 2
        }
      ]
    },
    {
      "cell_type": "code",
      "source": [
        "L = [1, 2, 3]"
      ],
      "metadata": {
        "id": "3OiCNtQ-grCe"
      },
      "execution_count": 3,
      "outputs": []
    },
    {
      "cell_type": "code",
      "source": [
        "type(L)"
      ],
      "metadata": {
        "colab": {
          "base_uri": "https://localhost:8080/"
        },
        "id": "8EB6JxdpgwlW",
        "outputId": "39f69a83-a477-4969-fa80-2795864810a7"
      },
      "execution_count": 4,
      "outputs": [
        {
          "output_type": "execute_result",
          "data": {
            "text/plain": [
              "list"
            ]
          },
          "metadata": {},
          "execution_count": 4
        }
      ]
    },
    {
      "cell_type": "code",
      "source": [
        "for i in iter(L):\n",
        "  print(i)"
      ],
      "metadata": {
        "colab": {
          "base_uri": "https://localhost:8080/"
        },
        "id": "ZajvR2OUg1w2",
        "outputId": "c3944e91-e27c-473d-b59a-927eb4791110"
      },
      "execution_count": 5,
      "outputs": [
        {
          "output_type": "stream",
          "name": "stdout",
          "text": [
            "1\n",
            "2\n",
            "3\n"
          ]
        }
      ]
    },
    {
      "cell_type": "code",
      "source": [
        "for i in L:\n",
        "  print(i)\n"
      ],
      "metadata": {
        "colab": {
          "base_uri": "https://localhost:8080/"
        },
        "id": "B0Hv2cY6g86G",
        "outputId": "7f526230-be16-4a71-e9c6-d2f069bcd24e"
      },
      "execution_count": 6,
      "outputs": [
        {
          "output_type": "stream",
          "name": "stdout",
          "text": [
            "1\n",
            "2\n",
            "3\n"
          ]
        }
      ]
    },
    {
      "cell_type": "code",
      "source": [
        "L = [1, 2, 3]\n",
        "iterator = iter(L)\n",
        "t = tuple(iterator)\n",
        "type(t)"
      ],
      "metadata": {
        "colab": {
          "base_uri": "https://localhost:8080/"
        },
        "id": "hKn7w3-PhCWX",
        "outputId": "b20d1e1d-bcf0-4f03-a43e-c9367344c85b"
      },
      "execution_count": 7,
      "outputs": [
        {
          "output_type": "execute_result",
          "data": {
            "text/plain": [
              "tuple"
            ]
          },
          "metadata": {},
          "execution_count": 7
        }
      ]
    },
    {
      "cell_type": "code",
      "source": [
        "m = {'Jan': 1, 'Feb': 2, 'Mar': 3, 'Apr': 4, 'May': 5, 'Jun': 6, 'Jul': 7, 'Aug': 8, 'Sep': 9, 'Oct': 10, 'Nov': 11, 'Dec': 12}\n",
        "for key in m:\n",
        "  print(key, m[key])"
      ],
      "metadata": {
        "colab": {
          "base_uri": "https://localhost:8080/"
        },
        "id": "P1PLssPrhGNI",
        "outputId": "007b293f-af15-46e2-aac2-9bea1e20733f"
      },
      "execution_count": 8,
      "outputs": [
        {
          "output_type": "stream",
          "name": "stdout",
          "text": [
            "Jan 1\n",
            "Feb 2\n",
            "Mar 3\n",
            "Apr 4\n",
            "May 5\n",
            "Jun 6\n",
            "Jul 7\n",
            "Aug 8\n",
            "Sep 9\n",
            "Oct 10\n",
            "Nov 11\n",
            "Dec 12\n"
          ]
        }
      ]
    },
    {
      "cell_type": "code",
      "source": [
        "l=[1,2,3]\n",
        "[2*i for i in l]"
      ],
      "metadata": {
        "colab": {
          "base_uri": "https://localhost:8080/"
        },
        "id": "FnQfvshphNSP",
        "outputId": "9cb2e6cb-7800-44dc-e19a-5b27b799c511"
      },
      "execution_count": 9,
      "outputs": [
        {
          "output_type": "execute_result",
          "data": {
            "text/plain": [
              "[2, 4, 6]"
            ]
          },
          "metadata": {},
          "execution_count": 9
        }
      ]
    },
    {
      "cell_type": "code",
      "source": [
        "l=[1,2,3]\n",
        "for i in l:\n",
        "  x=2*i\n",
        "  print(x)\n"
      ],
      "metadata": {
        "colab": {
          "base_uri": "https://localhost:8080/"
        },
        "id": "jzildcTihR9X",
        "outputId": "cb76373b-19f9-44bd-8b44-ec48ecd3ffce"
      },
      "execution_count": 10,
      "outputs": [
        {
          "output_type": "stream",
          "name": "stdout",
          "text": [
            "2\n",
            "4\n",
            "6\n"
          ]
        }
      ]
    },
    {
      "cell_type": "code",
      "source": [
        "[2*i for i in l]"
      ],
      "metadata": {
        "colab": {
          "base_uri": "https://localhost:8080/"
        },
        "id": "U6s2sbcJhWYv",
        "outputId": "f2d154cf-b7b9-48e9-d103-b0157f79da5d"
      },
      "execution_count": 11,
      "outputs": [
        {
          "output_type": "execute_result",
          "data": {
            "text/plain": [
              "[2, 4, 6]"
            ]
          },
          "metadata": {},
          "execution_count": 11
        }
      ]
    },
    {
      "cell_type": "code",
      "source": [
        "L = [('Italy', 'Rome'), ('France', 'Paris'), ('US', 'Washington DC')]\n",
        "type(L)"
      ],
      "metadata": {
        "colab": {
          "base_uri": "https://localhost:8080/"
        },
        "id": "ktGk1E4MhbIP",
        "outputId": "9678c622-7dfa-4d10-92ce-0082514bd3f3"
      },
      "execution_count": 12,
      "outputs": [
        {
          "output_type": "execute_result",
          "data": {
            "text/plain": [
              "list"
            ]
          },
          "metadata": {},
          "execution_count": 12
        }
      ]
    },
    {
      "cell_type": "code",
      "source": [
        "t=dict(iter(L))\n",
        "type(t)"
      ],
      "metadata": {
        "colab": {
          "base_uri": "https://localhost:8080/"
        },
        "id": "UNRNIsHghe4H",
        "outputId": "a3cfe1a8-4054-49ea-b553-6678e8f9132a"
      },
      "execution_count": 13,
      "outputs": [
        {
          "output_type": "execute_result",
          "data": {
            "text/plain": [
              "dict"
            ]
          },
          "metadata": {},
          "execution_count": 13
        }
      ]
    },
    {
      "cell_type": "code",
      "source": [
        "line_list = ['  Presidency University\\n', ' Computer Science Department\\n', ' Dept Of CSE \\n', '  \\n']\n",
        "\n",
        "stripped_iter = (line.strip() for line in line_list)\n",
        "stripped_iter"
      ],
      "metadata": {
        "colab": {
          "base_uri": "https://localhost:8080/"
        },
        "id": "0JMEwg3Ehie_",
        "outputId": "17c798e8-ce6c-4f73-c40f-00b222a76e0f"
      },
      "execution_count": 14,
      "outputs": [
        {
          "output_type": "execute_result",
          "data": {
            "text/plain": [
              "<generator object <genexpr> at 0x794250214e40>"
            ]
          },
          "metadata": {},
          "execution_count": 14
        }
      ]
    },
    {
      "cell_type": "code",
      "source": [
        "print(stripped_iter)"
      ],
      "metadata": {
        "colab": {
          "base_uri": "https://localhost:8080/"
        },
        "id": "hBY8BpY1hl6P",
        "outputId": "33408350-9abd-4a9b-c37b-7f8d79bd9bc1"
      },
      "execution_count": 15,
      "outputs": [
        {
          "output_type": "stream",
          "name": "stdout",
          "text": [
            "<generator object <genexpr> at 0x794250214e40>\n"
          ]
        }
      ]
    },
    {
      "cell_type": "code",
      "source": [
        "# List comprehension -- returns list\n",
        "stripped_list = [line.strip() for line in line_list]\n",
        "print(stripped_list)"
      ],
      "metadata": {
        "colab": {
          "base_uri": "https://localhost:8080/"
        },
        "id": "nXTJBkg4hplf",
        "outputId": "5fc415f5-7b81-4290-c84a-fff66d35a877"
      },
      "execution_count": 16,
      "outputs": [
        {
          "output_type": "stream",
          "name": "stdout",
          "text": [
            "['Presidency University', 'Computer Science Department', 'Dept Of CSE', '']\n"
          ]
        }
      ]
    },
    {
      "cell_type": "code",
      "source": [
        "#You can select only certain elements by adding an \"if\" condition:\n",
        "stripped_list = [line.strip() for line in line_list if line != \" \"]\n",
        "print(stripped_list)"
      ],
      "metadata": {
        "colab": {
          "base_uri": "https://localhost:8080/"
        },
        "id": "anMluFcMhvWP",
        "outputId": "d9c3c362-96db-4928-d80a-261639154076"
      },
      "execution_count": 17,
      "outputs": [
        {
          "output_type": "stream",
          "name": "stdout",
          "text": [
            "['Presidency University', 'Computer Science Department', 'Dept Of CSE', '']\n"
          ]
        }
      ]
    },
    {
      "cell_type": "code",
      "source": [
        "#generators\n",
        "seq1 = 'abc'\n",
        "seq2 = (1, 2, 3)\n",
        "[(x, y) for x in seq1 for y in seq2]"
      ],
      "metadata": {
        "colab": {
          "base_uri": "https://localhost:8080/"
        },
        "id": "vXHcbfXChylf",
        "outputId": "5c2217fb-9ddf-4911-c553-0566d9ee5f05"
      },
      "execution_count": 18,
      "outputs": [
        {
          "output_type": "execute_result",
          "data": {
            "text/plain": [
              "[('a', 1),\n",
              " ('a', 2),\n",
              " ('a', 3),\n",
              " ('b', 1),\n",
              " ('b', 2),\n",
              " ('b', 3),\n",
              " ('c', 1),\n",
              " ('c', 2),\n",
              " ('c', 3)]"
            ]
          },
          "metadata": {},
          "execution_count": 18
        }
      ]
    },
    {
      "cell_type": "code",
      "source": [
        "def generate_ints(N):\n",
        "  for i in range(N):\n",
        "    yield i\n",
        "\n",
        "\n",
        "gen=generate_ints(8)\n",
        "next(gen)"
      ],
      "metadata": {
        "colab": {
          "base_uri": "https://localhost:8080/"
        },
        "id": "U8QpH2GDh7rP",
        "outputId": "569d6a22-c9aa-43cd-ab7d-c867610f5e4b"
      },
      "execution_count": 19,
      "outputs": [
        {
          "output_type": "execute_result",
          "data": {
            "text/plain": [
              "0"
            ]
          },
          "metadata": {},
          "execution_count": 19
        }
      ]
    },
    {
      "cell_type": "code",
      "source": [
        "next(gen)"
      ],
      "metadata": {
        "colab": {
          "base_uri": "https://localhost:8080/"
        },
        "id": "JZb2uE-kiB8f",
        "outputId": "e19db92c-d802-4a19-adff-79b983ccc9ea"
      },
      "execution_count": 20,
      "outputs": [
        {
          "output_type": "execute_result",
          "data": {
            "text/plain": [
              "1"
            ]
          },
          "metadata": {},
          "execution_count": 20
        }
      ]
    },
    {
      "cell_type": "code",
      "source": [
        "def counter(maximum):\n",
        "    i = 0\n",
        "    while i < maximum:\n",
        "        val = (yield i)\n",
        "        # If value provided, change counter\n",
        "        if val is not None:\n",
        "            i = val\n",
        "        else:\n",
        "            i += 1\n",
        "\n",
        "\n",
        "\n",
        "it = counter(10)\n",
        "next(it)"
      ],
      "metadata": {
        "colab": {
          "base_uri": "https://localhost:8080/"
        },
        "id": "KG-_jRVviFiX",
        "outputId": "fd106726-b25a-4116-e781-596272d5f6fd"
      },
      "execution_count": 21,
      "outputs": [
        {
          "output_type": "execute_result",
          "data": {
            "text/plain": [
              "0"
            ]
          },
          "metadata": {},
          "execution_count": 21
        }
      ]
    },
    {
      "cell_type": "code",
      "source": [
        "next(it)"
      ],
      "metadata": {
        "colab": {
          "base_uri": "https://localhost:8080/"
        },
        "id": "SvGKJveFiMR3",
        "outputId": "513b5255-7e54-438d-f8e8-7113d4f3e48e"
      },
      "execution_count": 22,
      "outputs": [
        {
          "output_type": "execute_result",
          "data": {
            "text/plain": [
              "1"
            ]
          },
          "metadata": {},
          "execution_count": 22
        }
      ]
    },
    {
      "cell_type": "code",
      "source": [
        "it.send(8)"
      ],
      "metadata": {
        "colab": {
          "base_uri": "https://localhost:8080/"
        },
        "id": "etM9CqymiT5f",
        "outputId": "945233aa-4381-4290-a7d5-789ddb3acc49"
      },
      "execution_count": 23,
      "outputs": [
        {
          "output_type": "execute_result",
          "data": {
            "text/plain": [
              "8"
            ]
          },
          "metadata": {},
          "execution_count": 23
        }
      ]
    },
    {
      "cell_type": "code",
      "source": [
        "def upper(s):\n",
        "  return s.upper()\n",
        "\n",
        "list(map(upper,['sentence', 'fragment']))"
      ],
      "metadata": {
        "colab": {
          "base_uri": "https://localhost:8080/"
        },
        "id": "gw0bVtKeiVSX",
        "outputId": "1f0c404d-1ab0-40db-e0b6-c2cb4e702d5b"
      },
      "execution_count": 24,
      "outputs": [
        {
          "output_type": "execute_result",
          "data": {
            "text/plain": [
              "['SENTENCE', 'FRAGMENT']"
            ]
          },
          "metadata": {},
          "execution_count": 24
        }
      ]
    },
    {
      "cell_type": "code",
      "source": [
        "[upper(s) for s in ['sentence', 'fragment']]"
      ],
      "metadata": {
        "colab": {
          "base_uri": "https://localhost:8080/"
        },
        "id": "TprFrtzzicFn",
        "outputId": "7a70ba12-bafe-4154-b55f-fae0967f69f5"
      },
      "execution_count": 25,
      "outputs": [
        {
          "output_type": "execute_result",
          "data": {
            "text/plain": [
              "['SENTENCE', 'FRAGMENT']"
            ]
          },
          "metadata": {},
          "execution_count": 25
        }
      ]
    },
    {
      "cell_type": "code",
      "source": [
        "def is_even(x):\n",
        "  return (x % 2) == 0\n",
        "\n",
        "i=is_even(3)\n",
        "print(i)\n",
        "list(filter(is_even, range(10)))"
      ],
      "metadata": {
        "colab": {
          "base_uri": "https://localhost:8080/"
        },
        "id": "e2tSCPk-ifsH",
        "outputId": "a73c47a8-b640-4ce2-b316-c1e4f3740a16"
      },
      "execution_count": 26,
      "outputs": [
        {
          "output_type": "stream",
          "name": "stdout",
          "text": [
            "False\n"
          ]
        },
        {
          "output_type": "execute_result",
          "data": {
            "text/plain": [
              "[0, 2, 4, 6, 8]"
            ]
          },
          "metadata": {},
          "execution_count": 26
        }
      ]
    },
    {
      "cell_type": "code",
      "source": [
        "#List Comprehension\n",
        "list(x for x in range(10) if is_even(x))"
      ],
      "metadata": {
        "colab": {
          "base_uri": "https://localhost:8080/"
        },
        "id": "o4bXh4v1iqxP",
        "outputId": "b6ae7286-c7a3-423e-e4e0-a88120df30f3"
      },
      "execution_count": 27,
      "outputs": [
        {
          "output_type": "execute_result",
          "data": {
            "text/plain": [
              "[0, 2, 4, 6, 8]"
            ]
          },
          "metadata": {},
          "execution_count": 27
        }
      ]
    },
    {
      "cell_type": "code",
      "source": [
        "for item in enumerate(['A', 'B', 'C']):\n",
        "  print(item)\n"
      ],
      "metadata": {
        "colab": {
          "base_uri": "https://localhost:8080/"
        },
        "id": "HOTaCZStiuFn",
        "outputId": "36b230e5-c0cd-47df-d595-9d79ecc627fa"
      },
      "execution_count": 28,
      "outputs": [
        {
          "output_type": "stream",
          "name": "stdout",
          "text": [
            "(0, 'A')\n",
            "(1, 'B')\n",
            "(2, 'C')\n"
          ]
        }
      ]
    },
    {
      "cell_type": "code",
      "source": [
        "import random\n",
        "# Generate 8 random numbers between [0, 10000)\n",
        "rand_list = random.sample(range(10000), 8)\n",
        "rand_list\n"
      ],
      "metadata": {
        "colab": {
          "base_uri": "https://localhost:8080/"
        },
        "id": "I7iJrnAfixC_",
        "outputId": "ddf42e27-fb3a-43b2-f4f4-a5bff7904536"
      },
      "execution_count": 29,
      "outputs": [
        {
          "output_type": "execute_result",
          "data": {
            "text/plain": [
              "[7826, 6731, 9493, 8857, 2127, 1329, 247, 6064]"
            ]
          },
          "metadata": {},
          "execution_count": 29
        }
      ]
    },
    {
      "cell_type": "code",
      "source": [
        "sorted(rand_list)"
      ],
      "metadata": {
        "colab": {
          "base_uri": "https://localhost:8080/"
        },
        "id": "Um55Si4ji063",
        "outputId": "8dde33a5-6f22-4ed9-87e6-0a8ce8fd78d8"
      },
      "execution_count": 30,
      "outputs": [
        {
          "output_type": "execute_result",
          "data": {
            "text/plain": [
              "[247, 1329, 2127, 6064, 6731, 7826, 8857, 9493]"
            ]
          },
          "metadata": {},
          "execution_count": 30
        }
      ]
    },
    {
      "cell_type": "code",
      "source": [
        "sorted(rand_list, reverse=True)"
      ],
      "metadata": {
        "colab": {
          "base_uri": "https://localhost:8080/"
        },
        "id": "a61uHY7li46e",
        "outputId": "6dc4b667-9a27-4bed-c5f9-1e1723768580"
      },
      "execution_count": 31,
      "outputs": [
        {
          "output_type": "execute_result",
          "data": {
            "text/plain": [
              "[9493, 8857, 7826, 6731, 6064, 2127, 1329, 247]"
            ]
          },
          "metadata": {},
          "execution_count": 31
        }
      ]
    },
    {
      "cell_type": "code",
      "source": [
        "any([0, 0, 0])"
      ],
      "metadata": {
        "colab": {
          "base_uri": "https://localhost:8080/"
        },
        "id": "zCWUejCYi8fn",
        "outputId": "4ae2f799-4bde-42a5-f78e-2cba2096e345"
      },
      "execution_count": 32,
      "outputs": [
        {
          "output_type": "execute_result",
          "data": {
            "text/plain": [
              "False"
            ]
          },
          "metadata": {},
          "execution_count": 32
        }
      ]
    },
    {
      "cell_type": "code",
      "source": [
        "all([1, 1, 1])"
      ],
      "metadata": {
        "colab": {
          "base_uri": "https://localhost:8080/"
        },
        "id": "HqGhj6EXi_vv",
        "outputId": "f0507b30-3352-40a7-c63e-46e6ac3d9026"
      },
      "execution_count": 33,
      "outputs": [
        {
          "output_type": "execute_result",
          "data": {
            "text/plain": [
              "True"
            ]
          },
          "metadata": {},
          "execution_count": 33
        }
      ]
    },
    {
      "cell_type": "code",
      "source": [
        "zip(['a','b','c'], (1, 2, 3))"
      ],
      "metadata": {
        "colab": {
          "base_uri": "https://localhost:8080/"
        },
        "id": "NoGftCyajDWf",
        "outputId": "47378dee-6ced-430a-a96e-093a5b9fc690"
      },
      "execution_count": 34,
      "outputs": [
        {
          "output_type": "execute_result",
          "data": {
            "text/plain": [
              "<zip at 0x79425024dc00>"
            ]
          },
          "metadata": {},
          "execution_count": 34
        }
      ]
    },
    {
      "cell_type": "code",
      "source": [
        "zip(['a', 'b'], (1, 2, 3))"
      ],
      "metadata": {
        "colab": {
          "base_uri": "https://localhost:8080/"
        },
        "id": "ey4m_lkRjHE_",
        "outputId": "2b9e8f1c-ff8a-4318-a78a-17f0e024c91c"
      },
      "execution_count": 35,
      "outputs": [
        {
          "output_type": "execute_result",
          "data": {
            "text/plain": [
              "<zip at 0x79425024e440>"
            ]
          },
          "metadata": {},
          "execution_count": 35
        }
      ]
    },
    {
      "cell_type": "code",
      "source": [],
      "metadata": {
        "id": "efbe5NrbjK34"
      },
      "execution_count": null,
      "outputs": []
    }
  ]
}